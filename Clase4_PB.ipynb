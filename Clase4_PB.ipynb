{
 "cells": [
  {
   "cell_type": "markdown",
   "id": "b3f91234",
   "metadata": {},
   "source": [
    "Ciclo for con dos variables"
   ]
  },
  {
   "cell_type": "code",
   "execution_count": 2,
   "id": "55aa3402",
   "metadata": {},
   "outputs": [
    {
     "name": "stdout",
     "output_type": "stream",
     "text": [
      "Ana tiene 20 años\n",
      "Luis tiene 22 años\n",
      "Sofia tiene 19 años\n"
     ]
    }
   ],
   "source": [
    "edades = {\"Ana\": 20, \"Luis\":22, \"Sofia\":19}\n",
    "\n",
    "for nombre, edad in edades.items():\n",
    "    print(f\"{nombre} tiene {edad} años\")"
   ]
  },
  {
   "cell_type": "markdown",
   "id": "b18c7a47",
   "metadata": {},
   "source": [
    "Ejercicio 1: Contar números pares.\n",
    "\n",
    "Instrucciones: \n",
    "1. Pide al usuario un número entero positivo\n",
    "2. Usa un ciclo for para imprimir todos los números pares desde 1 hasta n."
   ]
  },
  {
   "cell_type": "code",
   "execution_count": null,
   "id": "e9c78ac2",
   "metadata": {},
   "outputs": [
    {
     "name": "stdout",
     "output_type": "stream",
     "text": [
      "El número 2 es par\n",
      "El número 4 es par\n",
      "El número 6 es par\n",
      "El número 8 es par\n"
     ]
    }
   ],
   "source": [
    "numero = int(input(\"Ingresa un número entero: \"))\n",
    "\n",
    "for i in range(num):\n",
    "    if (i + 1)%2==0:\n",
    "        print(f\"El número {i+1} es par\")"
   ]
  },
  {
   "cell_type": "markdown",
   "id": "12fc3e38",
   "metadata": {},
   "source": [
    "Ejercicio 2: Tabla de multiplicar\n",
    "Instrucciones:\n",
    "1. Pide al usuario un número entero.\n",
    "2. Usar un ciclo for para imprimir su tabla de multiplicar desde 1 hasta 10."
   ]
  },
  {
   "cell_type": "code",
   "execution_count": 18,
   "id": "2ea8b4a9",
   "metadata": {},
   "outputs": [
    {
     "name": "stdout",
     "output_type": "stream",
     "text": [
      "El producto de 2 por 1 es igual a 2\n",
      "------------------------------\n",
      "El producto de 2 por 2 es igual a 4\n",
      "------------------------------\n",
      "El producto de 2 por 3 es igual a 6\n",
      "------------------------------\n",
      "El producto de 2 por 4 es igual a 8\n",
      "------------------------------\n",
      "El producto de 2 por 5 es igual a 10\n",
      "------------------------------\n",
      "El producto de 2 por 6 es igual a 12\n",
      "------------------------------\n",
      "El producto de 2 por 7 es igual a 14\n",
      "------------------------------\n",
      "El producto de 2 por 8 es igual a 16\n",
      "------------------------------\n",
      "El producto de 2 por 9 es igual a 18\n",
      "------------------------------\n",
      "El producto de 2 por 10 es igual a 20\n",
      "------------------------------\n"
     ]
    }
   ],
   "source": [
    "entero = int(input(\"Ingresa un número entero: \"))\n",
    "\n",
    "for x in range(1,11):\n",
    "    resultado = entero * x\n",
    "    print(f\"El producto de {entero} por {x} es igual a {resultado}\")\n",
    "    print(\"-\" * 30)\n",
    "    "
   ]
  },
  {
   "cell_type": "markdown",
   "id": "3d205207",
   "metadata": {},
   "source": [
    "Ejercicio 3: Suma de una serie\n",
    "Instrucciones: \n",
    "1. Pide al usuario un número entero n.\n",
    "2. Usa un ciclo for para calcular la suma de los primeros n número naturales.\n",
    "    Fórmula 1 + 2 + 3 + ... + n\n",
    "3. Muestra el resultado final."
   ]
  },
  {
   "cell_type": "code",
   "execution_count": 49,
   "id": "4fe979f2",
   "metadata": {},
   "outputs": [
    {
     "name": "stdout",
     "output_type": "stream",
     "text": [
      "--------------------------------------------------------------------------------\n",
      "La suma de total de los números predecesores de 100 es igual a 5050\n",
      "--------------------------------------------------------------------------------\n"
     ]
    }
   ],
   "source": [
    "entero = int(input(\" Ingresa un número entero: \"))\n",
    "suma = 0\n",
    "for numero_natural in range(entero):\n",
    "    suma += numero_natural + 1\n",
    "print(\"-\"*80)\n",
    "print(f\"La suma de total de los números predecesores de {entero} es igual a {suma}\")\n",
    "print(\"-\"*80)\n"
   ]
  },
  {
   "cell_type": "markdown",
   "id": "023ee85f",
   "metadata": {},
   "source": [
    "Control dentro del for\n",
    "\n",
    "break -> interrumpe el ciclo.\n",
    "\n",
    "continue -> salta a la siguiente iteración.\n",
    "\n",
    "else -> se ejecuta si el for terminó normalmente (sin break)."
   ]
  },
  {
   "cell_type": "code",
   "execution_count": 51,
   "id": "4e538d65",
   "metadata": {},
   "outputs": [
    {
     "name": "stdout",
     "output_type": "stream",
     "text": [
      "1\n",
      "2\n"
     ]
    }
   ],
   "source": [
    "for i in range(1,6):\n",
    "    if i == 3:\n",
    "        break\n",
    "    print(i)\n",
    "else: \n",
    "    print(\"El ciclo for ha terminado correctamente\")\n"
   ]
  },
  {
   "cell_type": "markdown",
   "id": "e2e2cdbc",
   "metadata": {},
   "source": [
    "Ejercicio 1. Calculadora de áreas  "
   ]
  },
  {
   "cell_type": "code",
   "execution_count": 57,
   "id": "c0628819",
   "metadata": {},
   "outputs": [
    {
     "name": "stdout",
     "output_type": "stream",
     "text": [
      "Seleccione una figura geométrica: \n",
      "Menú de opciones: 1. Cuadrado, 2. Rectángulo, 3. Círculo\n",
      "Figura seleccionada: Cuadrado\n",
      "El área del cuadrado es 36.0\n"
     ]
    }
   ],
   "source": [
    "print(\"Seleccione una figura geométrica: \")\n",
    "print(\"Menú de opciones: 1. Cuadrado, 2. Rectángulo, 3. Círculo\")\n",
    "\n",
    "area = int(input(\"Indica la figura geométrica que deseas conocer su área: \"))\n",
    "match area:\n",
    "    case 1: \n",
    "        print(\"Figura seleccionada: Cuadrado\")\n",
    "        lado_cuadrado = float(input(\"Ingresa el lado del cuadrado: \"))\n",
    "        print(f\"El área del cuadrado es {lado_cuadrado*lado_cuadrado}\")\n",
    "    case 2:\n",
    "        print(\"Figura seleccionada: Rectángulo\")\n",
    "        lado_rectangulo = float(input(\"Ingresa el lado del rectángulo: \"))\n",
    "        altura_rectangulo  = float(input(\"Ingresa la altura del rectangulo: \"))\n",
    "        print(f\"El área del rectángulo es: {lado_rectangulo*altura_rectangulo}\")\n",
    "    case 3:\n",
    "        print(\"Figura seleccionada: Círculo\")\n",
    "        radio = float(input(\"Ingresa el radio del círculo: \"))\n",
    "        pi = 3.1416\n",
    "        print(f\"El área del círculo es: {pi * (radio**2)}\")\n",
    "    case _:\n",
    "        print(\"-\"*20)\n",
    "        print(\"Opción inválida\")\n",
    "        print(\"-\"*20)\n"
   ]
  }
 ],
 "metadata": {
  "kernelspec": {
   "display_name": "Python 3",
   "language": "python",
   "name": "python3"
  },
  "language_info": {
   "codemirror_mode": {
    "name": "ipython",
    "version": 3
   },
   "file_extension": ".py",
   "mimetype": "text/x-python",
   "name": "python",
   "nbconvert_exporter": "python",
   "pygments_lexer": "ipython3",
   "version": "3.13.7"
  }
 },
 "nbformat": 4,
 "nbformat_minor": 5
}
